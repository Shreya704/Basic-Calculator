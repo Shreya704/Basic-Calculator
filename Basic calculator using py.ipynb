{
  "nbformat": 4,
  "nbformat_minor": 0,
  "metadata": {
    "colab": {
      "provenance": []
    },
    "kernelspec": {
      "name": "python3",
      "display_name": "Python 3"
    },
    "language_info": {
      "name": "python"
    }
  },
  "cells": [
    {
      "cell_type": "code",
      "source": [
        "## created by Shreya Ghosal"
      ],
      "metadata": {
        "id": "yewSEyLfNlAc"
      },
      "execution_count": null,
      "outputs": []
    },
    {
      "cell_type": "markdown",
      "source": [
        "Basic Calculator using P[ython]\n"
      ],
      "metadata": {
        "id": "NWINuocKNmlD"
      }
    },
    {
      "cell_type": "code",
      "execution_count": null,
      "metadata": {
        "id": "R5vvcGKRKLw_"
      },
      "outputs": [],
      "source": [
        "print(\"Welcome to this basic Calculator\")\n",
        "try:\n",
        "  a = int(input (\"Enter your 1st value\"))\n",
        "except:\n",
        "  print(\"please enter a valid number\")\n",
        "try:\n",
        "  b = int(input (\"Enter your 2nd value \"))\n",
        "except:\n",
        "  print(\"again you entered a invalid number\")\n",
        "  o = input(\"which operation you want to perform(*,/,+,-)\")\n",
        "if (o == \"*\"):\n",
        "    print(a*b)\n",
        "elif (o == \"/\"):\n",
        "    print(a/b)\n",
        "elif (o == \"+\"):\n",
        "    print(a+b)\n",
        "elif (o == \"-\"):\n",
        "    print(a-b)\n",
        "else:\n",
        "    print(\"please learn python first\")"
      ]
    },
    {
      "cell_type": "code",
      "source": [],
      "metadata": {
        "id": "xFAkWBReNkCX"
      },
      "execution_count": null,
      "outputs": []
    },
    {
      "cell_type": "code",
      "source": [],
      "metadata": {
        "id": "0X8rG3DKKPTa"
      },
      "execution_count": 5,
      "outputs": []
    }
  ]
}